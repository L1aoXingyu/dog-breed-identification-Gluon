{
 "cells": [
  {
   "cell_type": "code",
   "execution_count": 1,
   "metadata": {
    "ExecuteTime": {
     "end_time": "2017-11-19T08:45:24.017755Z",
     "start_time": "2017-11-19T08:45:23.092187Z"
    },
    "collapsed": true
   },
   "outputs": [],
   "source": [
    "import datetime\n",
    "import json\n",
    "import os\n",
    "\n",
    "import mxnet as mx\n",
    "import numpy as np\n",
    "from mxnet import gluon as gl\n",
    "from mxnet import nd\n",
    "from mxnet.gluon import nn\n",
    "\n",
    "from data_utils import DogDataSet\n",
    "\n",
    "im_path = './data/train/'\n",
    "\n",
    "\n",
    "def transform_train(img):\n",
    "    '''\n",
    "    img is the mx.image.imread object\n",
    "    '''\n",
    "    img = img.astype('float32') / 255\n",
    "    random_shape = int(np.random.uniform() * 224 + 256)\n",
    "    # random samplely in [256, 480]\n",
    "    aug_list = mx.image.CreateAugmenter(\n",
    "        data_shape=(3, 299, 299),\n",
    "        resize=random_shape,\n",
    "        rand_mirror=True,\n",
    "        rand_crop=True,\n",
    "        mean=np.array([0.485, 0.456, 0.406]),\n",
    "        std=np.array([0.229, 0.224, 0.225]))\n",
    "#         mean=np.array([0.4736, 0.4504, 0.3909]),\n",
    "#         std=np.array([0.2655, 0.2607, 0.2650]))\n",
    "\n",
    "    for aug in aug_list:\n",
    "        img = aug(img)\n",
    "    img = nd.transpose(img, (2, 0, 1))\n",
    "    return img\n",
    "\n",
    "\n",
    "def transform_valid(img):\n",
    "    img = img.astype('float32') / 255.\n",
    "    aug_list = mx.image.CreateAugmenter(\n",
    "        data_shape=(3, 299, 299),\n",
    "        mean=np.array([0.485, 0.456, 0.406]),\n",
    "        std=np.array([0.229, 0.224, 0.225]))\n",
    "#         mean=np.array([0.4736, 0.4504, 0.3909]),\n",
    "#         std=np.array([0.2655, 0.2607, 0.2650]))\n",
    "\n",
    "    for aug in aug_list:\n",
    "        img = aug(img)\n",
    "    img = nd.transpose(img, (2, 0, 1))\n",
    "    return img\n",
    "\n",
    "\n",
    "# ## use DataLoader\n",
    "\n",
    "train_json = './data/train.json'\n",
    "train_set = DogDataSet(train_json, im_path, transform_train)\n",
    "train_data = gl.data.DataLoader(\n",
    "    train_set, batch_size=64, shuffle=True, last_batch='keep')\n",
    "\n",
    "valid_json = './data/valid.json'\n",
    "valid_set = DogDataSet(valid_json, im_path, transform_valid)\n",
    "valid_data = gl.data.DataLoader(\n",
    "    valid_set, batch_size=128, shuffle=False, last_batch='keep')\n",
    "\n",
    "criterion = gl.loss.SoftmaxCrossEntropyLoss()"
   ]
  },
  {
   "cell_type": "code",
   "execution_count": 2,
   "metadata": {
    "ExecuteTime": {
     "end_time": "2017-11-19T08:45:24.023256Z",
     "start_time": "2017-11-19T08:45:24.020311Z"
    },
    "collapsed": true
   },
   "outputs": [],
   "source": [
    "ctx = mx.gpu(1)"
   ]
  },
  {
   "cell_type": "code",
   "execution_count": 3,
   "metadata": {
    "ExecuteTime": {
     "end_time": "2017-11-19T08:45:27.724620Z",
     "start_time": "2017-11-19T08:45:24.025381Z"
    },
    "collapsed": true
   },
   "outputs": [],
   "source": [
    "net = gl.model_zoo.vision.inception_v3(pretrained=True, ctx=ctx)\n",
    "for i, j in net.collect_params().items():\n",
    "    j.grad_req = 'null'\n",
    "with net.name_scope():\n",
    "    net.classifier.add(nn.Activation('relu'), nn.Dropout(0.5), nn.Dense(120))\n",
    "net.classifier[8].initialize(init=mx.init.Xavier(), ctx=ctx)\n",
    "# freeze weight\n",
    "# for _, i in net.features.collect_params().items():\n",
    "# i.grad_req = 'null'\n",
    "# net.initialize(init=mx.init.Xavier(), ctx=ctx)\n",
    "# net.collect_params().load('finetune_resnet_20.params', ctx=ctx)\n",
    "net.hybridize()"
   ]
  },
  {
   "cell_type": "code",
   "execution_count": 4,
   "metadata": {
    "ExecuteTime": {
     "end_time": "2017-11-19T08:45:27.955102Z",
     "start_time": "2017-11-19T08:45:27.727182Z"
    },
    "collapsed": true
   },
   "outputs": [],
   "source": [
    "def get_acc(output, label):\n",
    "    pred = output.argmax(1)\n",
    "    correct = (pred == label).sum()\n",
    "    return correct.asscalar()\n",
    "\n",
    "\n",
    "def train(net, train_data, valid_data, num_epochs, lr, wd, ctx, lr_period,\n",
    "          lr_decay):\n",
    "    trainer = gl.Trainer(net.collect_params(), 'sgd',\n",
    "                         {'learning_rate': lr,\n",
    "                          'momentum': 0.9,\n",
    "                          'wd': wd})\n",
    "\n",
    "    prev_time = datetime.datetime.now()\n",
    "    for epoch in range(num_epochs):\n",
    "        if epoch > 0 and epoch % lr_period == 0:\n",
    "            trainer.set_learning_rate(trainer.learning_rate * lr_decay)\n",
    "#         if epoch == 50:\n",
    "#             for i, j in net.features.collect_params().items():\n",
    "#                 j.grad_req = 'write'\n",
    "#             for i, j in net.features.collect_params().items():\n",
    "#                 if 'stage4' in i:\n",
    "#                     j.lr_mult = 0.01\n",
    "#                 else:\n",
    "#                     j.lr_mult = 0.001\n",
    "        train_loss = 0\n",
    "        correct = 0\n",
    "        total = 0\n",
    "        for data, label in train_data:\n",
    "            bs = data.shape[0]\n",
    "            data = data.as_in_context(ctx)\n",
    "            label = label.as_in_context(ctx)\n",
    "            with mx.autograd.record():\n",
    "                # with mx.autograd.pause(train_mode=True):\n",
    "                # data_feature = net.features(data)\n",
    "                # output = net.classifier(data_feature)\n",
    "                output = net(data)\n",
    "                loss = criterion(output, label)\n",
    "            loss.backward()\n",
    "            trainer.step(bs)\n",
    "            train_loss += loss.sum().asscalar()\n",
    "            correct += get_acc(output, label)\n",
    "            total += bs\n",
    "        cur_time = datetime.datetime.now()\n",
    "        h, remainder = divmod((cur_time - prev_time).seconds, 3600)\n",
    "        m, s = divmod(remainder, 60)\n",
    "        time_str = \"Time %02d:%02d:%02d\" % (h, m, s)\n",
    "        if valid_data is not None:\n",
    "            valid_correct = 0\n",
    "            valid_total = 0\n",
    "            valid_loss = 0\n",
    "            for data, label in valid_data:\n",
    "                bs = data.shape[0]\n",
    "                data = data.as_in_context(ctx)\n",
    "                label = label.as_in_context(ctx)\n",
    "                output = net(data)\n",
    "                loss = criterion(output, label)\n",
    "                valid_loss += nd.sum(loss).asscalar()\n",
    "                valid_correct += get_acc(output, label)\n",
    "                valid_total += bs\n",
    "            valid_acc = valid_correct / valid_total\n",
    "            epoch_str = (\n",
    "                \"Epoch %d. Train Loss: %f, Train acc %f, Valid Loss: %f, Valid acc %f, \"\n",
    "                % (epoch, train_loss / total, correct / total,\n",
    "                   valid_loss / valid_total, valid_acc))\n",
    "        else:\n",
    "            epoch_str = (\"Epoch %d. Loss: %f, Train acc %f, \" %\n",
    "                         (epoch, train_loss / total, correct / total))\n",
    "        prev_time = cur_time\n",
    "        print(epoch_str + time_str + ', lr {:.5f}'.format(trainer.learning_rate))\n",
    "#         if (epoch + 1) % 10 == 0:\n",
    "#             net.collect_params().save(\n",
    "#                 './finetune_resnet_{}.params'.format(epoch + 1))"
   ]
  },
  {
   "cell_type": "code",
   "execution_count": 5,
   "metadata": {
    "ExecuteTime": {
     "end_time": "2017-11-19T08:45:27.961498Z",
     "start_time": "2017-11-19T08:45:27.957238Z"
    },
    "collapsed": true
   },
   "outputs": [],
   "source": [
    "num_epochs = 50\n",
    "lr = 0.01\n",
    "wd = 1e-4\n",
    "lr_period = 20\n",
    "lr_decay = 0.5"
   ]
  },
  {
   "cell_type": "code",
   "execution_count": 6,
   "metadata": {
    "ExecuteTime": {
     "end_time": "2017-11-19T11:11:35.717627Z",
     "start_time": "2017-11-19T08:45:27.963427Z"
    },
    "scrolled": false
   },
   "outputs": [
    {
     "name": "stdout",
     "output_type": "stream",
     "text": [
      "Epoch 0. Train Loss: 2.940930, Train acc 0.348966, Valid Loss: 0.888945, Valid acc 0.773810, Time 00:03:04, lr 0.01000\n",
      "Epoch 1. Train Loss: 1.662475, Train acc 0.588574, Valid Loss: 0.702991, Valid acc 0.814286, Time 00:03:11, lr 0.01000\n",
      "Epoch 2. Train Loss: 1.389818, Train acc 0.639736, Valid Loss: 0.631722, Valid acc 0.821429, Time 00:02:59, lr 0.01000\n",
      "Epoch 3. Train Loss: 1.284951, Train acc 0.667661, Valid Loss: 0.623558, Valid acc 0.813095, Time 00:02:59, lr 0.01000\n",
      "Epoch 4. Train Loss: 1.203269, Train acc 0.681944, Valid Loss: 0.585251, Valid acc 0.833333, Time 00:02:59, lr 0.01000\n",
      "Epoch 5. Train Loss: 1.169960, Train acc 0.692709, Valid Loss: 0.579327, Valid acc 0.826190, Time 00:03:05, lr 0.01000\n",
      "Epoch 6. Train Loss: 1.110732, Train acc 0.700810, Valid Loss: 0.569368, Valid acc 0.836905, Time 00:02:56, lr 0.01000\n",
      "Epoch 7. Train Loss: 1.090643, Train acc 0.711575, Valid Loss: 0.597400, Valid acc 0.817857, Time 00:02:54, lr 0.01000\n",
      "Epoch 8. Train Loss: 1.058844, Train acc 0.716798, Valid Loss: 0.573715, Valid acc 0.838095, Time 00:02:56, lr 0.01000\n",
      "Epoch 9. Train Loss: 1.010407, Train acc 0.725325, Valid Loss: 0.579335, Valid acc 0.821429, Time 00:02:59, lr 0.01000\n",
      "Epoch 10. Train Loss: 1.019488, Train acc 0.732040, Valid Loss: 0.572026, Valid acc 0.839286, Time 00:02:56, lr 0.01000\n",
      "Epoch 11. Train Loss: 0.995272, Train acc 0.727030, Valid Loss: 0.566392, Valid acc 0.842857, Time 00:02:47, lr 0.01000\n",
      "Epoch 12. Train Loss: 1.027479, Train acc 0.722127, Valid Loss: 0.570812, Valid acc 0.840476, Time 00:02:55, lr 0.01000\n",
      "Epoch 13. Train Loss: 0.986326, Train acc 0.734385, Valid Loss: 0.574490, Valid acc 0.836905, Time 00:02:56, lr 0.01000\n",
      "Epoch 14. Train Loss: 0.971167, Train acc 0.739181, Valid Loss: 0.535970, Valid acc 0.850000, Time 00:03:01, lr 0.01000\n",
      "Epoch 15. Train Loss: 0.955657, Train acc 0.743232, Valid Loss: 0.559090, Valid acc 0.839286, Time 00:02:56, lr 0.01000\n",
      "Epoch 16. Train Loss: 0.964645, Train acc 0.732040, Valid Loss: 0.568022, Valid acc 0.832143, Time 00:02:50, lr 0.01000\n",
      "Epoch 17. Train Loss: 0.929284, Train acc 0.742592, Valid Loss: 0.573185, Valid acc 0.834524, Time 00:02:52, lr 0.01000\n",
      "Epoch 18. Train Loss: 0.955667, Train acc 0.745470, Valid Loss: 0.546114, Valid acc 0.841667, Time 00:02:54, lr 0.01000\n",
      "Epoch 19. Train Loss: 0.924004, Train acc 0.750586, Valid Loss: 0.574056, Valid acc 0.832143, Time 00:02:53, lr 0.01000\n",
      "Epoch 20. Train Loss: 0.900675, Train acc 0.751972, Valid Loss: 0.527422, Valid acc 0.850000, Time 00:03:01, lr 0.00500\n",
      "Epoch 21. Train Loss: 0.854046, Train acc 0.763164, Valid Loss: 0.540263, Valid acc 0.851190, Time 00:02:54, lr 0.00500\n",
      "Epoch 22. Train Loss: 0.857204, Train acc 0.764336, Valid Loss: 0.535180, Valid acc 0.852381, Time 00:02:49, lr 0.00500\n",
      "Epoch 23. Train Loss: 0.855005, Train acc 0.761245, Valid Loss: 0.528094, Valid acc 0.851190, Time 00:02:46, lr 0.00500\n",
      "Epoch 24. Train Loss: 0.859784, Train acc 0.764016, Valid Loss: 0.535968, Valid acc 0.851190, Time 00:02:47, lr 0.00500\n",
      "Epoch 25. Train Loss: 0.854927, Train acc 0.764443, Valid Loss: 0.519684, Valid acc 0.847619, Time 00:02:52, lr 0.00500\n",
      "Epoch 26. Train Loss: 0.863044, Train acc 0.761671, Valid Loss: 0.539793, Valid acc 0.842857, Time 00:02:46, lr 0.00500\n",
      "Epoch 27. Train Loss: 0.838589, Train acc 0.768386, Valid Loss: 0.526264, Valid acc 0.852381, Time 00:02:57, lr 0.00500\n",
      "Epoch 28. Train Loss: 0.819857, Train acc 0.768493, Valid Loss: 0.516478, Valid acc 0.854762, Time 00:02:55, lr 0.00500\n",
      "Epoch 29. Train Loss: 0.841291, Train acc 0.767320, Valid Loss: 0.553530, Valid acc 0.848810, Time 00:02:52, lr 0.00500\n",
      "Epoch 30. Train Loss: 0.837719, Train acc 0.767534, Valid Loss: 0.547563, Valid acc 0.840476, Time 00:02:54, lr 0.00500\n",
      "Epoch 31. Train Loss: 0.833562, Train acc 0.769878, Valid Loss: 0.535360, Valid acc 0.841667, Time 00:02:48, lr 0.00500\n",
      "Epoch 32. Train Loss: 0.838117, Train acc 0.769878, Valid Loss: 0.516269, Valid acc 0.851190, Time 00:02:53, lr 0.00500\n",
      "Epoch 33. Train Loss: 0.826441, Train acc 0.767320, Valid Loss: 0.544493, Valid acc 0.846429, Time 00:02:57, lr 0.00500\n",
      "Epoch 34. Train Loss: 0.809080, Train acc 0.772970, Valid Loss: 0.530697, Valid acc 0.842857, Time 00:02:59, lr 0.00500\n",
      "Epoch 35. Train Loss: 0.823372, Train acc 0.770411, Valid Loss: 0.509816, Valid acc 0.846429, Time 00:02:53, lr 0.00500\n",
      "Epoch 36. Train Loss: 0.792829, Train acc 0.781283, Valid Loss: 0.530632, Valid acc 0.855952, Time 00:02:56, lr 0.00500\n",
      "Epoch 37. Train Loss: 0.816514, Train acc 0.769559, Valid Loss: 0.518061, Valid acc 0.848810, Time 00:02:46, lr 0.00500\n",
      "Epoch 38. Train Loss: 0.796452, Train acc 0.775314, Valid Loss: 0.526606, Valid acc 0.846429, Time 00:02:51, lr 0.00500\n",
      "Epoch 39. Train Loss: 0.833262, Train acc 0.770092, Valid Loss: 0.520505, Valid acc 0.854762, Time 00:02:58, lr 0.00500\n",
      "Epoch 40. Train Loss: 0.794567, Train acc 0.779258, Valid Loss: 0.510600, Valid acc 0.848810, Time 00:02:57, lr 0.00250\n",
      "Epoch 41. Train Loss: 0.773222, Train acc 0.788638, Valid Loss: 0.521341, Valid acc 0.851190, Time 00:02:50, lr 0.00250\n",
      "Epoch 42. Train Loss: 0.759464, Train acc 0.788105, Valid Loss: 0.526360, Valid acc 0.841667, Time 00:02:49, lr 0.00250\n",
      "Epoch 43. Train Loss: 0.800080, Train acc 0.782562, Valid Loss: 0.519460, Valid acc 0.848810, Time 00:02:48, lr 0.00250\n",
      "Epoch 44. Train Loss: 0.778231, Train acc 0.782776, Valid Loss: 0.522516, Valid acc 0.851190, Time 00:02:52, lr 0.00250\n",
      "Epoch 45. Train Loss: 0.793584, Train acc 0.778512, Valid Loss: 0.511292, Valid acc 0.858333, Time 00:03:01, lr 0.00250\n",
      "Epoch 46. Train Loss: 0.742027, Train acc 0.792582, Valid Loss: 0.519158, Valid acc 0.855952, Time 00:02:59, lr 0.00250\n",
      "Epoch 47. Train Loss: 0.760792, Train acc 0.783841, Valid Loss: 0.527328, Valid acc 0.846429, Time 00:02:55, lr 0.00250\n",
      "Epoch 48. Train Loss: 0.761178, Train acc 0.785760, Valid Loss: 0.521955, Valid acc 0.841667, Time 00:02:47, lr 0.00250\n",
      "Epoch 49. Train Loss: 0.768284, Train acc 0.786080, Valid Loss: 0.505205, Valid acc 0.850000, Time 00:02:58, lr 0.00250\n"
     ]
    }
   ],
   "source": [
    "train(net, train_data, valid_data, num_epochs, lr, wd, ctx, lr_period, lr_decay)"
   ]
  },
  {
   "cell_type": "code",
   "execution_count": 8,
   "metadata": {
    "ExecuteTime": {
     "end_time": "2017-11-19T12:37:36.374650Z",
     "start_time": "2017-11-19T12:37:36.129714Z"
    },
    "collapsed": true
   },
   "outputs": [],
   "source": [
    "net.save_params('inception.params')"
   ]
  },
  {
   "cell_type": "code",
   "execution_count": null,
   "metadata": {
    "collapsed": true
   },
   "outputs": [],
   "source": []
  }
 ],
 "metadata": {
  "kernelspec": {
   "display_name": "Python 3",
   "language": "python",
   "name": "python3"
  },
  "language_info": {
   "codemirror_mode": {
    "name": "ipython",
    "version": 3
   },
   "file_extension": ".py",
   "mimetype": "text/x-python",
   "name": "python",
   "nbconvert_exporter": "python",
   "pygments_lexer": "ipython3",
   "version": "3.6.2"
  }
 },
 "nbformat": 4,
 "nbformat_minor": 2
}
