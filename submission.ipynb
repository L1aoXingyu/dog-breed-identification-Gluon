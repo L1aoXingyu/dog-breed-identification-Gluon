{
 "cells": [
  {
   "cell_type": "code",
   "execution_count": 1,
   "metadata": {},
   "outputs": [],
   "source": [
    "%reload_ext autoreload\n",
    "%autoreload 2"
   ]
  },
  {
   "cell_type": "code",
   "execution_count": 2,
   "metadata": {},
   "outputs": [],
   "source": [
    "import mxnet as mx\n",
    "from mxnet import nd\n",
    "import mxnet.gluon as gl\n",
    "from mxnet.gluon import nn\n",
    "import numpy as np"
   ]
  },
  {
   "cell_type": "code",
   "execution_count": 3,
   "metadata": {},
   "outputs": [],
   "source": [
    "test_root = './data/'"
   ]
  },
  {
   "cell_type": "code",
   "execution_count": 4,
   "metadata": {},
   "outputs": [],
   "source": [
    "def transform_test(img):\n",
    "    if min(img.shape[0], img.shape[1]) < 224:\n",
    "        img = mx.image.resize_short(img, 224)\n",
    "    im_h, im_w = img.shape[0], img.shape[1]\n",
    "    img0 = mx.image.center_crop(img, (224, 224))[0]\n",
    "    img1 = mx.image.fixed_crop(img, 0, 0, 224, 224)\n",
    "    img2 = mx.image.fixed_crop(img, im_w-224, 0, 224, 224)\n",
    "    img3 = mx.image.fixed_crop(img, 0, im_h-224, 224, 224)\n",
    "    img4 = mx.image.fixed_crop(img, im_w-224, im_h-224, 224, 224)\n",
    "    \n",
    "    img0 = img0.astype('float32') / 255\n",
    "    img0h = mx.image.HorizontalFlipAug(1)(img0)\n",
    "    img1 = img1.astype('float32') / 255\n",
    "    img1h = mx.image.HorizontalFlipAug(1)(img1)\n",
    "    img2 = img2.astype('float32') / 255\n",
    "    img2h = mx.image.HorizontalFlipAug(1)(img2)\n",
    "    img3 = img3.astype('float32') / 255\n",
    "    img3h = mx.image.HorizontalFlipAug(1)(img3)\n",
    "    img4 = img4.astype('float32') / 255\n",
    "    img4h = mx.image.HorizontalFlipAug(1)(img4)\n",
    "    \n",
    "    img0 = mx.image.color_normalize(img0, mean=nd.array([0.4960, 0.4781, 0.4477]), \n",
    "                             std=nd.array([0.2915, 0.2864, 0.2981]))\n",
    "    img1 = mx.image.color_normalize(img1, mean=nd.array([0.4960, 0.4781, 0.4477]), \n",
    "                             std=nd.array([0.2915, 0.2864, 0.2981]))\n",
    "    img2 = mx.image.color_normalize(img2, mean=nd.array([0.4960, 0.4781, 0.4477]), \n",
    "                             std=nd.array([0.2915, 0.2864, 0.2981]))\n",
    "    img3 = mx.image.color_normalize(img3, mean=nd.array([0.4960, 0.4781, 0.4477]), \n",
    "                             std=nd.array([0.2915, 0.2864, 0.2981]))\n",
    "    img4 = mx.image.color_normalize(img4, mean=nd.array([0.4960, 0.4781, 0.4477]), \n",
    "                             std=nd.array([0.2915, 0.2864, 0.2981]))\n",
    "    \n",
    "    img0h = mx.image.color_normalize(img0h, mean=nd.array([0.4960, 0.4781, 0.4477]), \n",
    "                             std=nd.array([0.2915, 0.2864, 0.2981]))\n",
    "    img1h = mx.image.color_normalize(img1h, mean=nd.array([0.4960, 0.4781, 0.4477]), \n",
    "                             std=nd.array([0.2915, 0.2864, 0.2981]))\n",
    "    img2h = mx.image.color_normalize(img2h, mean=nd.array([0.4960, 0.4781, 0.4477]), \n",
    "                             std=nd.array([0.2915, 0.2864, 0.2981]))\n",
    "    img3h = mx.image.color_normalize(img3h, mean=nd.array([0.4960, 0.4781, 0.4477]), \n",
    "                             std=nd.array([0.2915, 0.2864, 0.2981]))\n",
    "    img4h = mx.image.color_normalize(img4h, mean=nd.array([0.4960, 0.4781, 0.4477]), \n",
    "                             std=nd.array([0.2915, 0.2864, 0.2981]))\n",
    "    \n",
    "    img0 = nd.transpose(img0, (2, 0, 1))\n",
    "    img1 = nd.transpose(img1, (2, 0, 1))\n",
    "    img2 = nd.transpose(img2, (2, 0, 1))\n",
    "    img3 = nd.transpose(img3, (2, 0, 1))\n",
    "    img4 = nd.transpose(img4, (2, 0, 1))\n",
    "    \n",
    "    img0h = nd.transpose(img0h, (2, 0, 1))\n",
    "    img1h = nd.transpose(img1h, (2, 0, 1))\n",
    "    img2h = nd.transpose(img2h, (2, 0, 1))\n",
    "    img3h = nd.transpose(img3h, (2, 0, 1))\n",
    "    img4h = nd.transpose(img4h, (2, 0, 1))\n",
    "    \n",
    "    return img0, img1, img2, img3, img4, img0h, img1h, img2h, img3h, img4h"
   ]
  },
  {
   "cell_type": "code",
   "execution_count": 5,
   "metadata": {},
   "outputs": [],
   "source": [
    "from data_utils import TestDataSet\n",
    "from dataloader import DataLoader"
   ]
  },
  {
   "cell_type": "code",
   "execution_count": 6,
   "metadata": {},
   "outputs": [],
   "source": [
    "test_img_path = test_root + '/test'\n",
    "test_set = TestDataSet(test_img_path, transform_test)\n",
    "test_data = DataLoader(test_set, 32, shuffle=False, last_batch='keep')"
   ]
  },
  {
   "cell_type": "code",
   "execution_count": 7,
   "metadata": {},
   "outputs": [],
   "source": [
    "ctx = mx.gpu(0)\n",
    "net = gl.model_zoo.vision.resnet50_v2()\n",
    "net.classifier = nn.HybridSequential()\n",
    "with net.name_scope():\n",
    "    net.classifier.add(nn.BatchNorm(),\n",
    "                       nn.Activation('relu'),\n",
    "                       nn.GlobalAvgPool2D(), nn.Flatten(), nn.Dense(120))\n",
    "net.load_params('./sub_net.params', ctx=ctx)\n",
    "net.hybridize()"
   ]
  },
  {
   "cell_type": "code",
   "execution_count": 8,
   "metadata": {
    "scrolled": false
   },
   "outputs": [],
   "source": [
    "pred = []\n",
    "im_id = []\n",
    "for data in test_data:\n",
    "    im_name = data[0]\n",
    "    im0 = data[1]\n",
    "    im1 = data[2]\n",
    "    im2 = data[3]\n",
    "    im3 = data[4]\n",
    "    im4 = data[5]\n",
    "    im5 = data[6]\n",
    "    im6 = data[7]\n",
    "    im7 = data[8]\n",
    "    im8 = data[9]\n",
    "    im9 = data[10]\n",
    "    \n",
    "    im0 = im0.as_in_context(ctx)\n",
    "    im1 = im1.as_in_context(ctx)\n",
    "    im2 = im2.as_in_context(ctx)\n",
    "    im3 = im3.as_in_context(ctx)\n",
    "    im4 = im4.as_in_context(ctx)\n",
    "    im5 = im5.as_in_context(ctx)\n",
    "    im6 = im6.as_in_context(ctx)\n",
    "    im7 = im7.as_in_context(ctx)\n",
    "    im8 = im8.as_in_context(ctx)\n",
    "    im9 = im9.as_in_context(ctx)\n",
    "    \n",
    "    out0 = nd.softmax(net(im0))\n",
    "    out1 = nd.softmax(net(im1))\n",
    "    out2 = nd.softmax(net(im2))\n",
    "    out3 = nd.softmax(net(im3))\n",
    "    out4 = nd.softmax(net(im4))\n",
    "    out5 = nd.softmax(net(im5))\n",
    "    out6 = nd.softmax(net(im6))\n",
    "    out7 = nd.softmax(net(im7))\n",
    "    out8 = nd.softmax(net(im8))\n",
    "    out9 = nd.softmax(net(im9))\n",
    "\n",
    "    \n",
    "    out = (out0 + out1 + out2 + out3 + out4 + out5 + \\\n",
    "          out6 + out7 + out8 + out9) / 10\n",
    "    pred.append(out)\n",
    "    for i in im_name:\n",
    "        im_id.append(i)"
   ]
  },
  {
   "cell_type": "code",
   "execution_count": 9,
   "metadata": {},
   "outputs": [],
   "source": [
    "new_pred = nd.concat(*pred, dim=0)"
   ]
  },
  {
   "cell_type": "code",
   "execution_count": 10,
   "metadata": {},
   "outputs": [],
   "source": [
    "import json\n",
    "import pandas as pd"
   ]
  },
  {
   "cell_type": "code",
   "execution_count": 11,
   "metadata": {},
   "outputs": [],
   "source": [
    "with open('./data/idxdic.json') as f:\n",
    "    idx = json.load(f)"
   ]
  },
  {
   "cell_type": "code",
   "execution_count": 12,
   "metadata": {},
   "outputs": [],
   "source": [
    "sub = {}\n",
    "for i in range(120):\n",
    "    sub[idx[str(i)]] = new_pred.asnumpy()[:, i]\n",
    "sub_df = pd.DataFrame(sub)\n",
    "sub_df.insert(0, 'id', [i.split('.')[0] for i in im_id])"
   ]
  },
  {
   "cell_type": "code",
   "execution_count": 13,
   "metadata": {},
   "outputs": [],
   "source": [
    "sub_df.to_csv('./submission.csv', index=False)"
   ]
  },
  {
   "cell_type": "code",
   "execution_count": 14,
   "metadata": {},
   "outputs": [
    {
     "name": "stdout",
     "output_type": "stream",
     "text": [
      "Mon Nov 13 15:00:54 2017       \r\n",
      "+-----------------------------------------------------------------------------+\r\n",
      "| NVIDIA-SMI 384.81                 Driver Version: 384.81                    |\r\n",
      "|-------------------------------+----------------------+----------------------+\r\n",
      "| GPU  Name        Persistence-M| Bus-Id        Disp.A | Volatile Uncorr. ECC |\r\n",
      "| Fan  Temp  Perf  Pwr:Usage/Cap|         Memory-Usage | GPU-Util  Compute M. |\r\n",
      "|===============================+======================+======================|\r\n",
      "|   0  Tesla V100-SXM2...  Off  | 00000000:00:1E.0 Off |                    0 |\r\n",
      "| N/A   36C    P0    35W / 300W |  10934MiB / 16152MiB |      0%      Default |\r\n",
      "+-------------------------------+----------------------+----------------------+\r\n",
      "                                                                               \r\n",
      "+-----------------------------------------------------------------------------+\r\n",
      "| Processes:                                                       GPU Memory |\r\n",
      "|  GPU       PID   Type   Process name                             Usage      |\r\n",
      "|=============================================================================|\r\n",
      "|    0     10910      C   /home/ubuntu/.conda/envs/mx/bin/python      7576MiB |\r\n",
      "|    0     11147      C   /home/ubuntu/.conda/envs/mx/bin/python      3348MiB |\r\n",
      "+-----------------------------------------------------------------------------+\r\n"
     ]
    }
   ],
   "source": [
    "!nvidia-smi"
   ]
  }
 ],
 "metadata": {
  "kernelspec": {
   "display_name": "Python 3",
   "language": "python",
   "name": "python3"
  },
  "language_info": {
   "codemirror_mode": {
    "name": "ipython",
    "version": 3
   },
   "file_extension": ".py",
   "mimetype": "text/x-python",
   "name": "python",
   "nbconvert_exporter": "python",
   "pygments_lexer": "ipython3",
   "version": "3.6.3"
  }
 },
 "nbformat": 4,
 "nbformat_minor": 2
}
