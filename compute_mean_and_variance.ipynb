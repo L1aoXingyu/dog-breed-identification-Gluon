{
 "cells": [
  {
   "cell_type": "code",
   "execution_count": 1,
   "metadata": {
    "ExecuteTime": {
     "end_time": "2017-11-09T03:05:47.965422Z",
     "start_time": "2017-11-09T03:05:47.957086Z"
    }
   },
   "outputs": [
    {
     "name": "stderr",
     "output_type": "stream",
     "text": [
      "/home/ubuntu/anaconda3/lib/python3.6/site-packages/urllib3/contrib/pyopenssl.py:46: DeprecationWarning: OpenSSL.rand is deprecated - you should use os.urandom instead\n",
      "  import OpenSSL.SSL\n"
     ]
    }
   ],
   "source": [
    "import mxnet as mx\n",
    "from mxnet import nd\n",
    "import numpy as np\n",
    "import os"
   ]
  },
  {
   "cell_type": "code",
   "execution_count": 2,
   "metadata": {
    "collapsed": true
   },
   "outputs": [],
   "source": [
    "path = './data/train/'"
   ]
  },
  {
   "cell_type": "code",
   "execution_count": 3,
   "metadata": {
    "ExecuteTime": {
     "end_time": "2017-11-09T01:59:18.387724Z",
     "start_time": "2017-11-09T01:59:18.336803Z"
    },
    "collapsed": true
   },
   "outputs": [],
   "source": [
    "img_list = os.listdir(path)"
   ]
  },
  {
   "cell_type": "code",
   "execution_count": 4,
   "metadata": {
    "ExecuteTime": {
     "end_time": "2017-11-09T02:49:45.503486Z",
     "start_time": "2017-11-09T01:59:18.517001Z"
    },
    "collapsed": true
   },
   "outputs": [],
   "source": [
    "r = 0 # r mean\n",
    "g = 0 # g mean\n",
    "b = 0 # b mean\n",
    "\n",
    "r_2 = 0 # r^2 \n",
    "g_2 = 0 # g^2\n",
    "b_2 = 0 # b^2\n",
    "\n",
    "total = 0\n",
    "for img_name in img_list:\n",
    "    img = mx.image.imread(path + img_name) # ndarray, width x height x 3\n",
    "    img = img.astype('float32') / 255.\n",
    "    total += img.shape[0] * img.shape[1]\n",
    "    \n",
    "    r += img[:, :, 0].sum().asscalar()\n",
    "    g += img[:, :, 1].sum().asscalar()\n",
    "    b += img[:, :, 2].sum().asscalar()\n",
    "    \n",
    "    r_2 += (img[:, :, 0]**2).sum().asscalar()\n",
    "    g_2 += (img[:, :, 1]**2).sum().asscalar()\n",
    "    b_2 += (img[:, :, 2]**2).sum().asscalar()\n",
    "\n",
    "r_mean = r / total\n",
    "g_mean = g / total\n",
    "b_mean = b / total\n",
    "\n",
    "r_var = r_2 / total - r_mean ** 2\n",
    "g_var = g_2 / total - g_mean ** 2\n",
    "b_var = b_2 / total - b_mean ** 2"
   ]
  },
  {
   "cell_type": "code",
   "execution_count": 5,
   "metadata": {
    "ExecuteTime": {
     "end_time": "2017-11-09T03:06:09.723269Z",
     "start_time": "2017-11-09T03:06:09.713647Z"
    }
   },
   "outputs": [
    {
     "name": "stdout",
     "output_type": "stream",
     "text": [
      "mean r: 0.47364038891519633 g: 0.4503721088074863, b: 0.39092826539797804\n",
      "var r: 0.2655139893527525, g: 0.26067148070369583, b: 0.26502618027377967\n"
     ]
    }
   ],
   "source": [
    "print('mean r: {} g: {}, b: {}'.format(r_mean, g_mean, b_mean))\n",
    "print('var r: {}, g: {}, b: {}'.format(np.sqrt(r_var), np.sqrt(g_var), np.sqrt(b_var)))"
   ]
  },
  {
   "cell_type": "code",
   "execution_count": null,
   "metadata": {
    "collapsed": true
   },
   "outputs": [],
   "source": []
  }
 ],
 "metadata": {
  "kernelspec": {
   "display_name": "Python 3",
   "language": "python",
   "name": "python3"
  },
  "language_info": {
   "codemirror_mode": {
    "name": "ipython",
    "version": 3
   },
   "file_extension": ".py",
   "mimetype": "text/x-python",
   "name": "python",
   "nbconvert_exporter": "python",
   "pygments_lexer": "ipython3",
   "version": "3.6.3"
  }
 },
 "nbformat": 4,
 "nbformat_minor": 2
}
